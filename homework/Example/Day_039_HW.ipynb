{
 "cells": [
  {
   "cell_type": "markdown",
   "metadata": {},
   "source": [
    "## [作業重點]\n",
    "清楚了解 L1, L2 的意義與差異為何，並了解 LASSO 與 Ridge 之間的差異與使用情境"
   ]
  },
  {
   "cell_type": "markdown",
   "metadata": {},
   "source": [
    "## 作業"
   ]
  },
  {
   "cell_type": "markdown",
   "metadata": {},
   "source": [
    "請閱讀相關文獻，並回答下列問題\n",
    "\n",
    "[脊回歸 (Ridge Regression)](https://blog.csdn.net/daunxx/article/details/51578787)\n",
    "[Linear, Ridge, Lasso Regression 本質區別](https://www.zhihu.com/question/38121173)\n",
    "\n",
    "1. LASSO 回歸可以被用來作為 Feature selection 的工具，請了解 LASSO 模型為什麼可用來作 Feature selection\n",
    "2. 當自變數 (X) 存在高度共線性時，Ridge Regression 可以處理這樣的問題嗎?\n"
   ]
  },
  {
   "cell_type": "markdown",
   "metadata": {},
   "source": [
    "1. 隨著懲罰力度alpha的增加，outlinear的係數會漸漸變成0，因此可以用來篩掉這些noise Feature.\n",
    "\n",
    "2. 應該可以...\n"
   ]
  },
  {
   "cell_type": "markdown",
   "metadata": {},
   "source": [
    "By teacher\n",
    "\n",
    "線性回歸中 參數 W 的解其一步驟是要對 X 求解反矩陣，如果有 X 有高度相關，反矩陣就不存在。\n",
    "但 Ridge Regression 可以解決高度相關的原因是，能夠縮減 X 的高相關特徵，後續非監督式學習會學到 PCA，也是把高維度且相關的特徵降低成低維度的特徵。至於到底是怎麼做到的，就得理解公式推導的每一個步驟在做什麼才可以喔！\n",
    "\n",
    "要完全理解公式推導的話，線性代數常見的奇異值、反矩陣等概念建議先有一定程度的熟悉，會比較好理解！"
   ]
  }
 ],
 "metadata": {
  "kernelspec": {
   "display_name": "Python 3",
   "language": "python",
   "name": "python3"
  },
  "language_info": {
   "codemirror_mode": {
    "name": "ipython",
    "version": 3
   },
   "file_extension": ".py",
   "mimetype": "text/x-python",
   "name": "python",
   "nbconvert_exporter": "python",
   "pygments_lexer": "ipython3",
   "version": "3.7.3"
  }
 },
 "nbformat": 4,
 "nbformat_minor": 2
}

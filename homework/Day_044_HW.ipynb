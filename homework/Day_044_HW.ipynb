{
 "cells": [
  {
   "cell_type": "markdown",
   "metadata": {},
   "source": [
    "## [作業重點]\n",
    "確保你了解隨機森林模型中每個超參數的意義，並觀察調整超參數對結果的影響"
   ]
  },
  {
   "cell_type": "markdown",
   "metadata": {},
   "source": [
    "## 作業\n",
    "\n",
    "1. 試著調整 RandomForestClassifier(...) 中的參數，並觀察是否會改變結果？\n",
    "2. 改用其他資料集 (boston, wine)，並與回歸模型與決策樹的結果進行比較"
   ]
  },
  {
   "cell_type": "code",
   "execution_count": 4,
   "metadata": {},
   "outputs": [],
   "source": [
    "from sklearn import datasets, metrics\n",
    "from sklearn.ensemble import RandomForestClassifier\n",
    "from sklearn.ensemble import RandomForestRegressor\n",
    "from sklearn.model_selection import train_test_split"
   ]
  },
  {
   "cell_type": "markdown",
   "metadata": {},
   "source": [
    "## Boston Data"
   ]
  },
  {
   "cell_type": "code",
   "execution_count": 52,
   "metadata": {},
   "outputs": [],
   "source": [
    "boston = datasets.load_boston()\n",
    "\n",
    "x_train, x_test, y_train, y_test = train_test_split(boston.data, boston.target, test_size=0.2, random_state=3)\n",
    "# 根據boston.target的結果，此為regression的問題\n",
    "rfr = RandomForestRegressor(n_estimators=10, max_depth=5)\n",
    "\n",
    "rfr.fit(x_train, y_train)\n",
    "\n",
    "y_pred = rfr.predict(x_test)"
   ]
  },
  {
   "cell_type": "code",
   "execution_count": 53,
   "metadata": {},
   "outputs": [
    {
     "name": "stdout",
     "output_type": "stream",
     "text": [
      "Score: 0.8935336547280608\n"
     ]
    }
   ],
   "source": [
    "# cannot use accuracy_score (continuous is not supported )\n",
    "score = rfr.score(x_test, y_test)\n",
    "print(\"Score: {0}\".format(score))"
   ]
  },
  {
   "cell_type": "code",
   "execution_count": 54,
   "metadata": {},
   "outputs": [
    {
     "name": "stdout",
     "output_type": "stream",
     "text": [
      "['CRIM' 'ZN' 'INDUS' 'CHAS' 'NOX' 'RM' 'AGE' 'DIS' 'RAD' 'TAX' 'PTRATIO'\n",
      " 'B' 'LSTAT']\n"
     ]
    }
   ],
   "source": [
    "print(boston.feature_names)"
   ]
  },
  {
   "cell_type": "code",
   "execution_count": 55,
   "metadata": {
    "scrolled": false
   },
   "outputs": [
    {
     "name": "stdout",
     "output_type": "stream",
     "text": [
      "Feature Importance:  [5.67398327e-02 2.75920108e-05 4.54429778e-03 0.00000000e+00\n",
      " 3.14659029e-02 2.90929235e-01 1.98881841e-02 5.06384704e-02\n",
      " 5.09015068e-03 6.87739740e-03 5.05929097e-03 1.41093424e-02\n",
      " 5.14630304e-01]\n"
     ]
    }
   ],
   "source": [
    "print('Feature Importance: ', rfr.feature_importances_)"
   ]
  },
  {
   "cell_type": "markdown",
   "metadata": {},
   "source": [
    "## WINE Data"
   ]
  },
  {
   "cell_type": "code",
   "execution_count": 84,
   "metadata": {},
   "outputs": [],
   "source": [
    "wine = datasets.load_wine()\n",
    "\n",
    "x_train, x_test, y_train, y_test = train_test_split(wine.data, wine.target, test_size=0.2, random_state=3)\n",
    "# 根據wine.target得知此為分類問題\n",
    "rfc = RandomForestClassifier(n_estimators=5, max_depth=4)\n",
    "'''\n",
    "RandomForestClassifier(\n",
    "                            n_estimators=10, #決策樹的數量量\n",
    "                             criterion=\"gini\",\n",
    "                             max_features=\"auto\", #如何選取 features         \n",
    "                             max_depth=10,\n",
    "                             min_samples_split=2,\n",
    "                             min_samples_leaf=1\n",
    "                             )\n",
    "'''\n",
    "rfc.fit(x_test, y_test)\n",
    "\n",
    "y_pred = rfc.predict(x_test)"
   ]
  },
  {
   "cell_type": "code",
   "execution_count": 85,
   "metadata": {},
   "outputs": [
    {
     "name": "stdout",
     "output_type": "stream",
     "text": [
      "Accuracy:  0.9722222222222222\n"
     ]
    }
   ],
   "source": [
    "acc = metrics.accuracy_score(y_test, y_pred)\n",
    "print('Accuracy: ', acc)"
   ]
  },
  {
   "cell_type": "code",
   "execution_count": 86,
   "metadata": {},
   "outputs": [
    {
     "name": "stdout",
     "output_type": "stream",
     "text": [
      "['alcohol', 'malic_acid', 'ash', 'alcalinity_of_ash', 'magnesium', 'total_phenols', 'flavanoids', 'nonflavanoid_phenols', 'proanthocyanins', 'color_intensity', 'hue', 'od280/od315_of_diluted_wines', 'proline']\n"
     ]
    }
   ],
   "source": [
    "print(wine.feature_names)"
   ]
  },
  {
   "cell_type": "code",
   "execution_count": 87,
   "metadata": {
    "scrolled": false
   },
   "outputs": [
    {
     "name": "stdout",
     "output_type": "stream",
     "text": [
      "Feature Importance:  [0.09931105 0.06681867 0.04870148 0.12195135 0.         0.04502387\n",
      " 0.22650816 0.         0.1183364  0.13810197 0.13524706 0.\n",
      " 0.        ]\n"
     ]
    }
   ],
   "source": [
    "print('Feature Importance: ', rfc.feature_importances_)"
   ]
  },
  {
   "cell_type": "markdown",
   "metadata": {},
   "source": [
    "## 個人觀察\n",
    "如果n_estimators 樹的棵樹過少，比較對象少則會較不準確，相對的會較準確但是也花更多時間。  \n",
    "如果max_dapth數的深度太深，容易造成單顆樹過擬和，使得結果不準確。  \n",
    "如果兩者都調整到很大，則棵樹很多可以互相比較來排除過擬和的情形，但相對的會造成花費的時間大量增加。  \n",
    "因為須衡量兩個參數變動時互相作用造成的結果，因此需要多嘗試兩種數值改動造成的變動幅度以及方向。"
   ]
  }
 ],
 "metadata": {
  "kernelspec": {
   "display_name": "Python 3",
   "language": "python",
   "name": "python3"
  },
  "language_info": {
   "codemirror_mode": {
    "name": "ipython",
    "version": 3
   },
   "file_extension": ".py",
   "mimetype": "text/x-python",
   "name": "python",
   "nbconvert_exporter": "python",
   "pygments_lexer": "ipython3",
   "version": "3.7.3"
  }
 },
 "nbformat": 4,
 "nbformat_minor": 2
}
